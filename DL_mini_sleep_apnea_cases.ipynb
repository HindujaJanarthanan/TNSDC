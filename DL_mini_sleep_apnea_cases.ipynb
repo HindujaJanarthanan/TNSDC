{
  "cells": [
    {
      "cell_type": "markdown",
      "metadata": {
        "id": "view-in-github",
        "colab_type": "text"
      },
      "source": [
        "<a href=\"https://colab.research.google.com/github/HindujaJanarthanan/TNSDC/blob/main/DL_mini_sleep_apnea_cases.ipynb\" target=\"_parent\"><img src=\"https://colab.research.google.com/assets/colab-badge.svg\" alt=\"Open In Colab\"/></a>"
      ]
    },
    {
      "cell_type": "code",
      "execution_count": null,
      "id": "legitimate-montgomery",
      "metadata": {
        "execution": {
          "iopub.execute_input": "2021-04-25T15:23:12.324033Z",
          "iopub.status.busy": "2021-04-25T15:23:12.323317Z",
          "iopub.status.idle": "2021-04-25T15:23:13.538241Z",
          "shell.execute_reply": "2021-04-25T15:23:13.538893Z"
        },
        "papermill": {
          "duration": 1.232944,
          "end_time": "2021-04-25T15:23:13.539116",
          "exception": false,
          "start_time": "2021-04-25T15:23:12.306172",
          "status": "completed"
        },
        "tags": [],
        "id": "legitimate-montgomery"
      },
      "outputs": [],
      "source": [
        "import pandas as pd\n",
        "import numpy as np\n",
        "import matplotlib.pyplot as plt\n",
        "from scipy.signal import find_peaks\n",
        "from scipy.stats import kurtosis, skew\n",
        "import scipy.io\n",
        "from sklearn.model_selection import train_test_split\n",
        "from sklearn.linear_model import SGDClassifier"
      ]
    },
    {
      "cell_type": "code",
      "execution_count": null,
      "id": "induced-maine",
      "metadata": {
        "papermill": {
          "duration": 0.154742,
          "end_time": "2021-04-25T15:23:53.724076",
          "exception": false,
          "start_time": "2021-04-25T15:23:53.569334",
          "status": "completed"
        },
        "tags": [],
        "id": "induced-maine"
      },
      "outputs": [],
      "source": [
        "pip install tensorflow"
      ]
    },
    {
      "cell_type": "code",
      "source": [
        "import numpy as np\n",
        "import pandas as pd\n",
        "\n",
        "# Load CSV file\n",
        "csv_data = pd.read_csv('/content/a01.csv')  # Replace 'your_data.csv' with your CSV file path\n",
        "\n",
        "# Load TXT file (assuming labels are in a single column)\n",
        "with open('/content/a01.txt', 'r') as file:\n",
        "    txt_data = file.read().splitlines()\n",
        "labels = np.array(txt_data)\n"
      ],
      "metadata": {
        "id": "FW6VpS2yQ1Yk"
      },
      "id": "FW6VpS2yQ1Yk",
      "execution_count": null,
      "outputs": []
    },
    {
      "cell_type": "code",
      "source": [
        "from google.colab import drive\n",
        "drive.mount('/content/drive')"
      ],
      "metadata": {
        "colab": {
          "base_uri": "https://localhost:8080/"
        },
        "id": "lpm7wp-ge0RD",
        "outputId": "311117a5-82d6-46fe-db98-3f67309603b1"
      },
      "id": "lpm7wp-ge0RD",
      "execution_count": null,
      "outputs": [
        {
          "output_type": "stream",
          "name": "stdout",
          "text": [
            "Drive already mounted at /content/drive; to attempt to forcibly remount, call drive.mount(\"/content/drive\", force_remount=True).\n"
          ]
        }
      ]
    },
    {
      "cell_type": "code",
      "source": [
        "import numpy as np\n",
        "import pandas as pd\n",
        "import tensorflow as tf\n",
        "from tensorflow.keras.models import Sequential\n",
        "from tensorflow.keras.layers import SimpleRNN, Dense\n",
        "from datetime import datetime\n",
        "from sklearn.metrics import mean_absolute_error, mean_squared_error, r2_score\n",
        "import matplotlib.pyplot as plt\n",
        "\n",
        "# Sample data with time\n",
        "data = [\n",
        "    ('0:00.000', -0.06), ('0:00.010', -0.065), ('0:00.020', -0.06),\n",
        "    ('0:00.030', -0.075), ('0:00.040', -0.065), ('0:00.050', -0.07),\n",
        "    ('0:00.060', -0.07), ('0:00.070', -0.09), ('0:00.080', -0.08),\n",
        "    ('0:00.090', -0.095), ('0:00.100', -0.08), ('0:00.110', -0.095),\n",
        "    ('0:00.120', -0.08), ('0:00.130', -0.095), ('0:00.140', -0.085),\n",
        "    ('0:00.150', -0.09), ('0:00.160', -0.09), ('0:00.170', -0.1),\n",
        "    ('0:00.180', -0.085), ('0:00.190', -0.105), ('0:00.200', -0.09),\n",
        "    ('0:00.210', -0.045), ('0:00.220', 0.005), ('0:00.230', 0.015)\n",
        "]\n",
        "\n",
        "# Convert data to a DataFrame\n",
        "df = pd.DataFrame(data, columns=['Time', 'Value'])\n",
        "\n",
        "# Function to create sequences and labels from data\n",
        "def create_sequences(data, sequence_length):\n",
        "    sequences = []\n",
        "    labels = []\n",
        "    for i in range(len(data) - sequence_length):\n",
        "        seq = data[i:i + sequence_length, 1].astype(np.float32)  # Extract and convert to float32\n",
        "        label = data[i + sequence_length][1].astype(np.float32)  # Extract and convert to float32\n",
        "        sequences.append(seq)\n",
        "        labels.append(label)\n",
        "    return np.array(sequences), np.array(labels)\n",
        "\n",
        "# Convert time strings to numerical representations\n",
        "time_format = \"%M:%S.%f\"\n",
        "df['Time'] = df['Time'].apply(lambda x: datetime.strptime(x, time_format).timestamp())\n",
        "\n",
        "# Hyperparameters\n",
        "sequence_length = 10\n",
        "batch_size = 1\n",
        "\n",
        "# Create sequences and labels\n",
        "sequences, labels = create_sequences(df.values, sequence_length)\n",
        "\n",
        "# Split the data into training and validation sets\n",
        "split_index = int(0.8 * len(sequences))\n",
        "x_train, y_train = sequences[:split_index], labels[:split_index]\n",
        "x_val, y_val = sequences[split_index:], labels[split_index:]\n",
        "\n",
        "# Define the RNN model\n",
        "model = Sequential()\n",
        "model.add(SimpleRNN(50, activation='relu', input_shape=(sequence_length, 1)))\n",
        "model.add(Dense(1))\n",
        "model.compile(optimizer='adam', loss='mean_squared_error')\n",
        "\n",
        "# Reshape input data to match the RNN input shape\n",
        "x_train = x_train.reshape(-1, sequence_length, 1)\n",
        "x_val = x_val.reshape(-1, sequence_length, 1)\n",
        "\n",
        "# Train the model\n",
        "model.fit(x_train, y_train, epochs=50, validation_data=(x_val, y_val))\n",
        "\n",
        "# Evaluate the model\n",
        "loss = model.evaluate(x_val, y_val)\n",
        "print(\"Validation Loss:\", loss)\n",
        "\n",
        "# Make predictions on the validation set\n",
        "y_pred = model.predict(x_val)\n",
        "\n",
        "plt.subplot(2, 2, 4)\n",
        "plt.plot(y_pred, label='Predicted')\n",
        "plt.plot(y_val - y_pred, label='Residuals')\n",
        "plt.title('Predicted Values vs. Residuals')\n",
        "plt.legend()\n",
        "\n",
        "plt.tight_layout()\n",
        "plt.show()\n"
      ],
      "metadata": {
        "colab": {
          "base_uri": "https://localhost:8080/",
          "height": 1000
        },
        "id": "a-ITLzIvJ02e",
        "outputId": "c1e26385-215e-42dd-e715-0f40a68b427a"
      },
      "id": "a-ITLzIvJ02e",
      "execution_count": null,
      "outputs": [
        {
          "output_type": "stream",
          "name": "stdout",
          "text": [
            "Epoch 1/50\n",
            "1/1 [==============================] - 2s 2s/step - loss: 0.0091 - val_loss: 9.5065e-04\n",
            "Epoch 2/50\n",
            "1/1 [==============================] - 0s 58ms/step - loss: 0.0074 - val_loss: 0.0010\n",
            "Epoch 3/50\n",
            "1/1 [==============================] - 0s 82ms/step - loss: 0.0061 - val_loss: 0.0011\n",
            "Epoch 4/50\n",
            "1/1 [==============================] - 0s 86ms/step - loss: 0.0049 - val_loss: 0.0014\n",
            "Epoch 5/50\n",
            "1/1 [==============================] - 0s 68ms/step - loss: 0.0040 - val_loss: 0.0017\n",
            "Epoch 6/50\n",
            "1/1 [==============================] - 0s 60ms/step - loss: 0.0032 - val_loss: 0.0022\n",
            "Epoch 7/50\n",
            "1/1 [==============================] - 0s 73ms/step - loss: 0.0024 - val_loss: 0.0029\n",
            "Epoch 8/50\n",
            "1/1 [==============================] - 0s 81ms/step - loss: 0.0017 - val_loss: 0.0036\n",
            "Epoch 9/50\n",
            "1/1 [==============================] - 0s 70ms/step - loss: 0.0011 - val_loss: 0.0046\n",
            "Epoch 10/50\n",
            "1/1 [==============================] - 0s 55ms/step - loss: 6.6797e-04 - val_loss: 0.0057\n",
            "Epoch 11/50\n",
            "1/1 [==============================] - 0s 76ms/step - loss: 3.1174e-04 - val_loss: 0.0070\n",
            "Epoch 12/50\n",
            "1/1 [==============================] - 0s 68ms/step - loss: 1.0139e-04 - val_loss: 0.0084\n",
            "Epoch 13/50\n",
            "1/1 [==============================] - 0s 72ms/step - loss: 4.4714e-05 - val_loss: 0.0099\n",
            "Epoch 14/50\n",
            "1/1 [==============================] - 0s 51ms/step - loss: 1.2412e-04 - val_loss: 0.0112\n",
            "Epoch 15/50\n",
            "1/1 [==============================] - 0s 77ms/step - loss: 2.8899e-04 - val_loss: 0.0122\n",
            "Epoch 16/50\n",
            "1/1 [==============================] - 0s 58ms/step - loss: 4.5370e-04 - val_loss: 0.0126\n",
            "Epoch 17/50\n",
            "1/1 [==============================] - 0s 42ms/step - loss: 5.3329e-04 - val_loss: 0.0126\n",
            "Epoch 18/50\n",
            "1/1 [==============================] - 0s 45ms/step - loss: 5.1376e-04 - val_loss: 0.0121\n",
            "Epoch 19/50\n",
            "1/1 [==============================] - 0s 38ms/step - loss: 4.2505e-04 - val_loss: 0.0114\n",
            "Epoch 20/50\n",
            "1/1 [==============================] - 0s 39ms/step - loss: 3.0562e-04 - val_loss: 0.0106\n",
            "Epoch 21/50\n",
            "1/1 [==============================] - 0s 41ms/step - loss: 2.0146e-04 - val_loss: 0.0099\n",
            "Epoch 22/50\n",
            "1/1 [==============================] - 0s 46ms/step - loss: 1.3254e-04 - val_loss: 0.0091\n",
            "Epoch 23/50\n",
            "1/1 [==============================] - 0s 39ms/step - loss: 8.1614e-05 - val_loss: 0.0084\n",
            "Epoch 24/50\n",
            "1/1 [==============================] - 0s 38ms/step - loss: 5.3744e-05 - val_loss: 0.0078\n",
            "Epoch 25/50\n",
            "1/1 [==============================] - 0s 38ms/step - loss: 4.7454e-05 - val_loss: 0.0074\n",
            "Epoch 26/50\n",
            "1/1 [==============================] - 0s 64ms/step - loss: 5.4819e-05 - val_loss: 0.0070\n",
            "Epoch 27/50\n",
            "1/1 [==============================] - 0s 40ms/step - loss: 6.7512e-05 - val_loss: 0.0068\n",
            "Epoch 28/50\n",
            "1/1 [==============================] - 0s 39ms/step - loss: 7.8131e-05 - val_loss: 0.0067\n",
            "Epoch 29/50\n",
            "1/1 [==============================] - 0s 44ms/step - loss: 8.4570e-05 - val_loss: 0.0066\n",
            "Epoch 30/50\n",
            "1/1 [==============================] - 0s 42ms/step - loss: 8.4979e-05 - val_loss: 0.0066\n",
            "Epoch 31/50\n",
            "1/1 [==============================] - 0s 45ms/step - loss: 7.9684e-05 - val_loss: 0.0067\n",
            "Epoch 32/50\n",
            "1/1 [==============================] - 0s 39ms/step - loss: 7.0810e-05 - val_loss: 0.0068\n",
            "Epoch 33/50\n",
            "1/1 [==============================] - 0s 47ms/step - loss: 6.1041e-05 - val_loss: 0.0070\n",
            "Epoch 34/50\n",
            "1/1 [==============================] - 0s 46ms/step - loss: 5.2574e-05 - val_loss: 0.0072\n",
            "Epoch 35/50\n",
            "1/1 [==============================] - 0s 45ms/step - loss: 4.6997e-05 - val_loss: 0.0074\n",
            "Epoch 36/50\n",
            "1/1 [==============================] - 0s 38ms/step - loss: 4.5041e-05 - val_loss: 0.0075\n",
            "Epoch 37/50\n",
            "1/1 [==============================] - 0s 43ms/step - loss: 4.6088e-05 - val_loss: 0.0077\n",
            "Epoch 38/50\n",
            "1/1 [==============================] - 0s 37ms/step - loss: 4.8825e-05 - val_loss: 0.0078\n",
            "Epoch 39/50\n",
            "1/1 [==============================] - 0s 46ms/step - loss: 5.1399e-05 - val_loss: 0.0078\n",
            "Epoch 40/50\n",
            "1/1 [==============================] - 0s 43ms/step - loss: 5.2505e-05 - val_loss: 0.0078\n",
            "Epoch 41/50\n",
            "1/1 [==============================] - 0s 41ms/step - loss: 5.1365e-05 - val_loss: 0.0078\n",
            "Epoch 42/50\n",
            "1/1 [==============================] - 0s 43ms/step - loss: 4.8569e-05 - val_loss: 0.0077\n",
            "Epoch 43/50\n",
            "1/1 [==============================] - 0s 40ms/step - loss: 4.5047e-05 - val_loss: 0.0076\n",
            "Epoch 44/50\n",
            "1/1 [==============================] - 0s 39ms/step - loss: 4.2036e-05 - val_loss: 0.0075\n",
            "Epoch 45/50\n",
            "1/1 [==============================] - 0s 39ms/step - loss: 4.0220e-05 - val_loss: 0.0073\n",
            "Epoch 46/50\n",
            "1/1 [==============================] - 0s 41ms/step - loss: 3.9798e-05 - val_loss: 0.0072\n",
            "Epoch 47/50\n",
            "1/1 [==============================] - 0s 63ms/step - loss: 4.0455e-05 - val_loss: 0.0072\n",
            "Epoch 48/50\n",
            "1/1 [==============================] - 0s 58ms/step - loss: 4.1569e-05 - val_loss: 0.0071\n",
            "Epoch 49/50\n",
            "1/1 [==============================] - 0s 44ms/step - loss: 4.2468e-05 - val_loss: 0.0071\n",
            "Epoch 50/50\n",
            "1/1 [==============================] - 0s 46ms/step - loss: 4.2761e-05 - val_loss: 0.0071\n",
            "1/1 [==============================] - 0s 29ms/step - loss: 0.0071\n",
            "Validation Loss: 0.007111263927072287\n",
            "1/1 [==============================] - 0s 156ms/step\n"
          ]
        },
        {
          "output_type": "display_data",
          "data": {
            "text/plain": [
              "<Figure size 640x480 with 1 Axes>"
            ],
            "image/png": "[encoded data removed]"
          },
          "metadata": {}
        }
      ]
    },
    {
      "cell_type": "code",
      "source": [
        "# Calculate Mean Absolute Error (MAE)\n",
        "mae = mean_absolute_error(y_val, y_pred)\n",
        "print(\"Validation MAE:\", mae)"
      ],
      "metadata": {
        "colab": {
          "base_uri": "https://localhost:8080/"
        },
        "id": "LwW-aWWNKfPm",
        "outputId": "c16076fd-48fa-4802-c65d-f804e224eab3"
      },
      "id": "LwW-aWWNKfPm",
      "execution_count": null,
      "outputs": [
        {
          "output_type": "stream",
          "name": "stdout",
          "text": [
            "Validation MAE: 0.07411073\n"
          ]
        }
      ]
    },
    {
      "cell_type": "code",
      "source": [
        "# Visualization\n",
        "plt.figure(figsize=(12, 6))\n",
        "plt.subplot(2, 2, 1)\n",
        "plt.plot(y_val, label='Actual')\n",
        "plt.plot(y_pred, label='Predicted')\n",
        "plt.title('Actual vs. Predicted')\n",
        "plt.legend()"
      ],
      "metadata": {
        "colab": {
          "base_uri": "https://localhost:8080/",
          "height": 311
        },
        "id": "ZK-aaXZUKIg-",
        "outputId": "1b76feb7-2854-46c0-be0b-6e3996f53cb2"
      },
      "id": "ZK-aaXZUKIg-",
      "execution_count": null,
      "outputs": [
        {
          "output_type": "execute_result",
          "data": {
            "text/plain": [
              "<matplotlib.legend.Legend at 0x7f96ea685ed0>"
            ]
          },
          "metadata": {},
          "execution_count": 2
        },
        {
          "output_type": "display_data",
          "data": {
            "text/plain": [
              "<Figure size 1200x600 with 1 Axes>"
            ],
            "image/png": "[encoded data removed]"
          },
          "metadata": {}
        }
      ]
    },
    {
      "cell_type": "code",
      "source": [
        "# Calculate Root Mean Squared Error (RMSE)\n",
        "rmse = np.sqrt(mean_squared_error(y_val, y_pred))\n",
        "print(\"Validation RMSE:\", rmse)"
      ],
      "metadata": {
        "colab": {
          "base_uri": "https://localhost:8080/"
        },
        "id": "WarlE-nBKxWG",
        "outputId": "9e2f538c-1b4a-47db-c458-0da9913b2ed6"
      },
      "id": "WarlE-nBKxWG",
      "execution_count": null,
      "outputs": [
        {
          "output_type": "stream",
          "name": "stdout",
          "text": [
            "Validation RMSE: 0.07631981\n"
          ]
        }
      ]
    },
    {
      "cell_type": "code",
      "source": [
        "plt.subplot(2, 2, 3)\n",
        "plt.hist(y_val - y_pred, bins=30)\n",
        "plt.title('Residuals Histogram')\n",
        "plt.xlabel('Residuals')\n",
        "plt.ylabel('Frequency')"
      ],
      "metadata": {
        "colab": {
          "base_uri": "https://localhost:8080/",
          "height": 288
        },
        "id": "56aztEHFKN1G",
        "outputId": "b4d1a18b-75c1-4604-9ee3-9e993a705408"
      },
      "id": "56aztEHFKN1G",
      "execution_count": null,
      "outputs": [
        {
          "output_type": "execute_result",
          "data": {
            "text/plain": [
              "Text(0, 0.5, 'Frequency')"
            ]
          },
          "metadata": {},
          "execution_count": 3
        },
        {
          "output_type": "display_data",
          "data": {
            "text/plain": [
              "<Figure size 640x480 with 1 Axes>"
            ],
            "image/png": "[encoded data removed]"
          },
          "metadata": {}
        }
      ]
    },
    {
      "cell_type": "code",
      "source": [
        "# Calculate R-squared (R2)\n",
        "r2 = r2_score(y_val, y_pred)\n",
        "print(\"Validation R-squared (R2):\", r2)"
      ],
      "metadata": {
        "colab": {
          "base_uri": "https://localhost:8080/"
        },
        "id": "2r9tFPiaK6vO",
        "outputId": "b097d953-48b3-49a9-affb-0d67fdaf05d2"
      },
      "id": "2r9tFPiaK6vO",
      "execution_count": null,
      "outputs": [
        {
          "output_type": "stream",
          "name": "stdout",
          "text": [
            "Validation R-squared (R2): -7.4552276696296715\n"
          ]
        }
      ]
    },
    {
      "cell_type": "code",
      "source": [
        "plt.subplot(2, 2, 2)\n",
        "plt.scatter(y_val, y_pred)\n",
        "plt.xlabel('Actual')\n",
        "plt.ylabel('Predicted')\n",
        "plt.title('Actual vs. Predicted (Scatter)')"
      ],
      "metadata": {
        "colab": {
          "base_uri": "https://localhost:8080/",
          "height": 288
        },
        "id": "BnatO3-UKYFu",
        "outputId": "32ed6abb-8500-4742-d4a3-bf370cd23fbf"
      },
      "id": "BnatO3-UKYFu",
      "execution_count": null,
      "outputs": [
        {
          "output_type": "execute_result",
          "data": {
            "text/plain": [
              "Text(0.5, 1.0, 'Actual vs. Predicted (Scatter)')"
            ]
          },
          "metadata": {},
          "execution_count": 5
        },
        {
          "output_type": "display_data",
          "data": {
            "text/plain": [
              "<Figure size 640x480 with 1 Axes>"
            ],
            "image/png": "[encoded data removed]"
          },
          "metadata": {}
        }
      ]
    }
  ],
  "metadata": {
    "kernelspec": {
      "display_name": "Python 3",
      "language": "python",
      "name": "python3"
    },
    "language_info": {
      "codemirror_mode": {
        "name": "ipython",
        "version": 3
      },
      "file_extension": ".py",
      "mimetype": "text/x-python",
      "name": "python",
      "nbconvert_exporter": "python",
      "pygments_lexer": "ipython3",
      "version": "3.7.10"
    },
    "papermill": {
      "default_parameters": {},
      "duration": 51.930069,
      "end_time": "2021-04-25T15:23:55.897465",
      "environment_variables": {},
      "exception": null,
      "input_path": "__notebook__.ipynb",
      "output_path": "__notebook__.ipynb",
      "parameters": {},
      "start_time": "2021-04-25T15:23:03.967396",
      "version": "2.3.3"
    },
    "colab": {
      "provenance": [],
      "include_colab_link": true
    }
  },
  "nbformat": 4,
  "nbformat_minor": 5
}